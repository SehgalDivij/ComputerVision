{
 "cells": [
  {
   "cell_type": "code",
   "execution_count": 1,
   "metadata": {},
   "outputs": [],
   "source": [
    "import numpy as np\n",
    "import argparse\n",
    "import cv2\n",
    "import os\n",
    "\n",
    "# construct the argument parse and parse the arguments\n",
    "# ap = argparse.ArgumentParser()\n",
    "# ap.add_argument(\"-i\", \"--image\", required=False, help=\"path to input image\", default='MobileNet_SSD/images/example_01.jpg')\n",
    "# ap.add_argument(\"-p\", \"--prototxt\", required=False, default='MobileNet_SSD/MobileNetSSD_deploy.prototxt.txt', help=\"path to Caffe 'deploy' prototxt file\")\n",
    "# ap.add_argument(\"-m\", \"--model\", required=False, default='MobileNet_SSD/MobileNetSSD_deploy.caffemodel', help=\"path to Caffe pre-trained model\")\n",
    "# ap.add_argument(\"-c\", \"--confidence\", type=float, default=0.2, help=\"minimum probability to filter weak detections\")\n",
    "# args = vars(ap.parse_args())\n",
    "args = {\n",
    "    'model': 'MobileNet_SSD/MobileNetSSD_deploy.caffemodel',\n",
    "    'prototxt': 'MobileNet_SSD/MobileNetSSD_deploy.prototxt.txt',\n",
    "    'image': 'MobileNet_SSD/images/example_01.jpg',\n",
    "    'folder': 'MobileNet_SSD/images/',\n",
    "    'confidence': 0.2\n",
    "}"
   ]
  },
  {
   "cell_type": "code",
   "execution_count": null,
   "metadata": {},
   "outputs": [],
   "source": []
  },
  {
   "cell_type": "code",
   "execution_count": 2,
   "metadata": {},
   "outputs": [],
   "source": [
    "import time"
   ]
  },
  {
   "cell_type": "code",
   "execution_count": 3,
   "metadata": {},
   "outputs": [],
   "source": [
    "# initialize the list of class labels MobileNet SSD was trained to\n",
    "# detect, then generate a set of bounding box colors for each class\n",
    "CLASSES = [\"background\", \"aeroplane\", \"bicycle\", \"bird\", \"boat\", \"bottle\", \"bus\", \"car\", \"cat\", \"chair\", \"cow\", \"diningtable\", \"dog\", \"horse\", \"motorbike\", \"person\", \"pottedplant\", \"sheep\", \"sofa\", \"train\", \"tvmonitor\"]\n",
    "COLORS = np.random.uniform(0, 255, size=(len(CLASSES), 3))"
   ]
  },
  {
   "cell_type": "code",
   "execution_count": 4,
   "metadata": {},
   "outputs": [
    {
     "name": "stdout",
     "output_type": "stream",
     "text": [
      "[INFO] loading model...\n"
     ]
    }
   ],
   "source": [
    "print(\"[INFO] loading model...\")\n",
    "net = cv2.dnn.readNetFromCaffe(args[\"prototxt\"], args[\"model\"])"
   ]
  },
  {
   "cell_type": "code",
   "execution_count": 5,
   "metadata": {},
   "outputs": [],
   "source": [
    "image = cv2.imread(args[\"image\"])\n",
    "(h, w) = image.shape[:2]\n",
    "blob = cv2.dnn.blobFromImage(cv2.resize(image, (300, 300)), 0.007843, (300, 300), 127.5)"
   ]
  },
  {
   "cell_type": "code",
   "execution_count": 6,
   "metadata": {},
   "outputs": [],
   "source": [
    "# cv2.imshow('image', image)"
   ]
  },
  {
   "cell_type": "code",
   "execution_count": 7,
   "metadata": {},
   "outputs": [
    {
     "name": "stdout",
     "output_type": "stream",
     "text": [
      "[INFO] computing object detections...\n"
     ]
    }
   ],
   "source": [
    "print(\"[INFO] computing object detections...\")\n",
    "net.setInput(blob)\n",
    "detections = net.forward()"
   ]
  },
  {
   "cell_type": "code",
   "execution_count": 8,
   "metadata": {},
   "outputs": [
    {
     "name": "stdout",
     "output_type": "stream",
     "text": [
      "[[[[0.         7.         0.9995229  0.5379815  0.5264416  0.88357186\n",
      "    0.8250202 ]\n",
      "   [0.         7.         0.9561934  0.10046941 0.4999609  0.35983586\n",
      "    0.7624899 ]]]]\n"
     ]
    },
    {
     "data": {
      "text/plain": [
       "0.9995229"
      ]
     },
     "execution_count": 8,
     "metadata": {},
     "output_type": "execute_result"
    }
   ],
   "source": [
    "print(detections)\n",
    "detections.shape\n",
    "detections[0, 0, 0, 2]"
   ]
  },
  {
   "cell_type": "code",
   "execution_count": 9,
   "metadata": {},
   "outputs": [
    {
     "name": "stdout",
     "output_type": "stream",
     "text": [
      "0.9995229\n",
      "<class 'numpy.float32'>\n",
      "[INFO] car: 99.95%\n",
      "True\n",
      "0.9561934\n",
      "<class 'numpy.float32'>\n",
      "[INFO] car: 95.62%\n",
      "True\n"
     ]
    }
   ],
   "source": [
    "for i in np.arange(0, detections.shape[2]):\n",
    "    # extract the confidence (i.e., probability) associated with the\n",
    "    # prediction\n",
    "    confidence = detections[0, 0, i, 2]\n",
    "    print(confidence)\n",
    "    print(type(confidence))\n",
    "    # filter out weak detections by ensuring the `confidence` is\n",
    "    # greater than the minimum confidence\n",
    "    if confidence > args[\"confidence\"]:\n",
    "        # extract the index of the class label from the `detections`,\n",
    "        # then compute the (x, y)-coordinates of the bounding box for\n",
    "        # the object\n",
    "        idx = int(detections[0, 0, i, 1])\n",
    "        box = detections[0, 0, i, 3:7] * np.array([w, h, w, h])\n",
    "        (startX, startY, endX, endY) = box.astype(\"int\")\n",
    "        # display the prediction\n",
    "        label = \"{}: {:.2f}%\".format(CLASSES[idx], confidence * 100)\n",
    "        print(\"[INFO] {}\".format(label))\n",
    "        cv2.rectangle(image, (startX, startY), (endX, endY),\n",
    "            COLORS[idx], 2)\n",
    "        y = startY - 15 if startY - 15 > 15 else startY + 15\n",
    "        cv2.putText(image, label, (startX, y),\n",
    "            cv2.FONT_HERSHEY_SIMPLEX, 0.5, COLORS[idx], 2)\n",
    "        print(cv2.imwrite(args['image'].split('/')[0] + '/outputs/' + args['image'].split('/')[-1], image))"
   ]
  },
  {
   "cell_type": "code",
   "execution_count": 13,
   "metadata": {},
   "outputs": [],
   "source": [
    "# cv2.imshow(\"Output\", image)\n",
    "# MobileNet_SSD/images"
   ]
  }
 ],
 "metadata": {
  "kernelspec": {
   "display_name": "Python 3",
   "language": "python",
   "name": "python3"
  },
  "language_info": {
   "codemirror_mode": {
    "name": "ipython",
    "version": 3
   },
   "file_extension": ".py",
   "mimetype": "text/x-python",
   "name": "python",
   "nbconvert_exporter": "python",
   "pygments_lexer": "ipython3",
   "version": "3.5.2"
  }
 },
 "nbformat": 4,
 "nbformat_minor": 2
}
